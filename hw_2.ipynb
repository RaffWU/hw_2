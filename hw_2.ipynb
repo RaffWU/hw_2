{
 "cells": [
  {
   "cell_type": "code",
   "execution_count": 83,
   "metadata": {
    "scrolled": true
   },
   "outputs": [
    {
     "name": "stdout",
     "output_type": "stream",
     "text": [
      "['https://movies.yahoo.com.tw/name_main/%E8%90%8A%E6%81%A9%E9%9B%B7%E8%AB%BE%E6%96%AF-ryan-reynolds-225', 'https://movies.yahoo.com.tw/name_main/%E5%A1%94%E4%BC%8A%E5%8A%A0%E7%B6%AD%E8%BF%AA%E6%8F%90-taika-waititi-25265']\n"
     ]
    }
   ],
   "source": [
    "# 奇摩電影\n",
    "import requests\n",
    "import re\n",
    "from bs4 import BeautifulSoup\n",
    "import pandas as pd\n",
    "setMovie= set()\n",
    "setStar= set()\n",
    "listMovie= [ 'https://movies.yahoo.com.tw/movieinfo_main/%E8%84%AB%E7%A8%BF%E7%8E%A9%E5%AE%B6-original-title-free-guy-11445' ]\n",
    "listStar= [ 'https://movies.yahoo.com.tw/name_main/%E8%90%8A%E6%81%A9%E9%9B%B7%E8%AB%BE%E6%96%AF-ryan-reynolds-225' ]\n",
    "tagMovie= 'https://movies.yahoo.com.tw/movieinfo_main/'\n",
    "tagStar= 'https://movies.yahoo.com.tw/name_main/'\n",
    "url = 'https://movies.yahoo.com.tw/movieinfo_main/%E8%84%AB%E7%A8%BF%E7%8E%A9%E5%AE%B6-original-title-free-guy-11445'\n",
    "resp = requests.get(url)\n",
    "resp.encoding = 'utf-8'\n",
    "soup = BeautifulSoup(resp.text, 'lxml')\n",
    "a_tags = soup.find_all('a')\n",
    "for tag in a_tags:\n",
    "    t=tag.get('href')\n",
    "    if type(t) is str:\n",
    "        if tagStar in t:\n",
    "            if t not in listStar:\n",
    "                listStar.append(t )\n",
    "print(listStar)"
   ]
  },
  {
   "cell_type": "code",
   "execution_count": null,
   "metadata": {},
   "outputs": [],
   "source": []
  }
 ],
 "metadata": {
  "kernelspec": {
   "display_name": "Python 3",
   "language": "python",
   "name": "python3"
  },
  "language_info": {
   "codemirror_mode": {
    "name": "ipython",
    "version": 3
   },
   "file_extension": ".py",
   "mimetype": "text/x-python",
   "name": "python",
   "nbconvert_exporter": "python",
   "pygments_lexer": "ipython3",
   "version": "3.7.6"
  }
 },
 "nbformat": 4,
 "nbformat_minor": 4
}
