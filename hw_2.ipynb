{
 "cells": [
  {
   "cell_type": "code",
   "execution_count": 57,
   "metadata": {
    "scrolled": true
   },
   "outputs": [
    {
     "name": "stdout",
     "output_type": "stream",
     "text": [
      "['https://movies.yahoo.com.tw/name_main/%E8%90%8A%E6%81%A9%E9%9B%B7%E8%AB%BE%E6%96%AF-ryan-reynolds-225', 'https://movies.yahoo.com.tw/name_main/%E5%A1%94%E4%BC%8A%E5%8A%A0%E7%B6%AD%E8%BF%AA%E6%8F%90-taika-waititi-25265']\n"
     ]
    }
   ],
   "source": [
    "# 奇摩電影\n",
    "import requests\n",
    "import re\n",
    "from bs4 import BeautifulSoup\n",
    "import pandas as pd\n",
    "setMovie= set()\n",
    "setStar= set()\n",
    "listMovie= [ 'https://movies.yahoo.com.tw/movieinfo_main/%E8%84%AB%E7%A8%BF%E7%8E%A9%E5%AE%B6-original-title-free-guy-11445' ]\n",
    "listStar= [ 'https://movies.yahoo.com.tw/name_main/%E8%90%8A%E6%81%A9%E9%9B%B7%E8%AB%BE%E6%96%AF-ryan-reynolds-225' ]\n",
    "tagMovie= 'https://movies.yahoo.com.tw/movieinfo_main/'\n",
    "tagStar= 'https://movies.yahoo.com.tw/name_main/'\n",
    "url = 'https://movies.yahoo.com.tw/movieinfo_main/%E8%84%AB%E7%A8%BF%E7%8E%A9%E5%AE%B6-original-title-free-guy-11445'\n",
    "resp = requests.get(url)\n",
    "resp.encoding = 'utf-8'\n",
    "soup = BeautifulSoup(resp.text, 'lxml')\n",
    "a_tags = soup.find_all('a')\n",
    "for tag in a_tags:\n",
    "    t=tag.get('href')\n",
    "    if type(t) is str:\n",
    "        if tagStar in t:\n",
    "            if t not in listStar:\n",
    "                listStar.append(t )\n",
    "print(listStar)"
   ]
  },
  {
   "cell_type": "code",
   "execution_count": 58,
   "metadata": {},
   "outputs": [],
   "source": [
    "#從電影頁面擴張影星資料\n",
    "def getStar(url, listStar=[]):\n",
    "    tagStar= 'https://movies.yahoo.com.tw/name_main/'\n",
    "    resp = requests.get(url)\n",
    "    resp.encoding = 'utf-8'\n",
    "    soup = BeautifulSoup(resp.text, 'lxml')\n",
    "    a_tags = soup.find_all('a')\n",
    "    for tag in a_tags:\n",
    "        t=tag.get('href')\n",
    "        if type(t) is str:\n",
    "            if tagStar in t:\n",
    "                if t not in listStar:\n",
    "                    listStar.append(t )\n",
    "    return listStar"
   ]
  },
  {
   "cell_type": "code",
   "execution_count": 59,
   "metadata": {},
   "outputs": [],
   "source": [
    "#從影星頁面擴張電影資料\n",
    "def getMovie(url, listMovie=[]):\n",
    "    tagMovie= 'https://movies.yahoo.com.tw/movieinfo_main/'\n",
    "    resp = requests.get(url)\n",
    "    resp.encoding = 'utf-8'\n",
    "    soup = BeautifulSoup(resp.text, 'lxml')\n",
    "    a_tAgs = soup.find_all('a')\n",
    "    #print(a_tAgs)\n",
    "    for tAg in a_tAgs:\n",
    "        t=tAg.get('href')\n",
    "        if type(t) is str:\n",
    "            if tagMovie in t:\n",
    "                if t not in listMovie:\n",
    "                    listMovie.append(t )\n",
    "    return listMovie"
   ]
  },
  {
   "cell_type": "code",
   "execution_count": 61,
   "metadata": {},
   "outputs": [
    {
     "name": "stdout",
     "output_type": "stream",
     "text": [
      "['https://movies.yahoo.com.tw/movieinfo_main/%E8%84%AB%E7%A8%BF%E7%8E%A9%E5%AE%B6-original-title-free-guy-11445']\n",
      "47\n",
      "['https://movies.yahoo.com.tw/movieinfo_main/%E8%84%AB%E7%A8%BF%E7%8E%A9%E5%AE%B6-original-title-free-guy-11445', 'https://movies.yahoo.com.tw/movieinfo_main/自殺突擊隊-集結-the-suicide-squad-11328', 'https://movies.yahoo.com.tw/movieinfo_main/詭老-old-11409', 'https://movies.yahoo.com.tw/movieinfo_main/比得兔兔-peter-rabbit-2-the-runaway-10488', 'https://movies.yahoo.com.tw/movieinfo_main/%E8%87%AA%E6%AE%BA%E7%AA%81%E6%93%8A%E9%9A%8A-%E9%9B%86%E7%B5%90-the-suicide-squad-11328', 'https://movies.yahoo.com.tw/movieinfo_main/%E9%BB%91%E5%AF%A1%E5%A9%A6-black-widow-10397', 'https://movies.yahoo.com.tw/movieinfo_main/%E5%8F%A2%E6%9E%97%E5%A5%87%E8%88%AA-jungle-cruise-10315', 'https://movies.yahoo.com.tw/movieinfo_main/%E8%B7%AF%E5%8D%A1%E7%9A%84%E5%A4%8F%E5%A4%A9-luca-11268', 'https://movies.yahoo.com.tw/movieinfo_main/%E5%8E%B2%E9%99%B0%E5%AE%853-%E6%98%AF%E6%83%A1%E9%AD%94%E9%80%BC%E6%88%91%E7%9A%84-the-conjuring-the-devil-made-me-do-it-11376', 'https://movies.yahoo.com.tw/movieinfo_main/%E8%A9%AD%E8%80%81-old-11409', 'https://movies.yahoo.com.tw/movieinfo_main/%E8%96%84%E8%8D%B7%E7%B3%96-peppermint-candy-11368', 'https://movies.yahoo.com.tw/movieinfo_main/%E9%A9%85%E9%AD%94%E7%A6%81%E5%8D%80-demonic-11439', 'https://movies.yahoo.com.tw/movieinfo_main/%E4%BA%BA%E8%81%B2-the-human-voice-11400', 'https://movies.yahoo.com.tw/movieinfo_main/%E6%80%AA%E7%89%A9%E5%A5%87%E5%85%B5-%E5%85%A8%E6%96%B0%E4%B8%96%E4%BB%A3-space-jam-a-new-legacy-11342', 'https://movies.yahoo.com.tw/movieinfo_main/%E7%89%B9%E7%A8%AE%E9%83%A8%E9%9A%8A-%E8%9B%87%E7%9C%BC%E4%B9%8B%E6%88%B0-snake-eyes-10461', 'https://movies.yahoo.com.tw/movieinfo_main/%E5%AF%86%E5%BC%92%E9%81%8A%E6%88%B22-%E5%8B%9D%E8%80%85%E5%8D%B1%E4%BA%A1-escape-room-tournament-of-champions-11408', 'https://movies.yahoo.com.tw/movieinfo_main/%E7%8E%A9%E5%91%BD%E9%97%9C%E9%A0%AD9-fast-furious-9-10482', 'https://movies.yahoo.com.tw/movieinfo_main/%E5%99%A4%E7%95%8CII-a-quiet-place-part-ii-10435', 'https://movies.yahoo.com.tw/movieinfo_main/%E5%AF%B6%E8%B2%9D%E8%80%81%E9%97%86-%E5%AE%B6%E5%A4%A7%E6%A5%AD%E5%A4%A7-the-boss-baby-family-business-11084', 'https://movies.yahoo.com.tw/movieinfo_main/%E6%B1%AA%E6%B1%AA%E9%9A%8A%E7%AB%8B%E5%A4%A7%E5%8A%9F%E9%9B%BB%E5%BD%B1%E7%89%88-paw-patrol-the-movie-11411', 'https://movies.yahoo.com.tw/movieinfo_main/%E8%BF%BD%E6%86%B6%E4%BA%BA-reminiscence-11410', 'https://movies.yahoo.com.tw/movieinfo_main/%E6%AE%BA%E6%89%8B%E4%BF%9D%E9%91%A32-the-hitmans-wifes-bodyguard-10441', 'https://movies.yahoo.com.tw/movieinfo_main/%E5%8F%A4%E9%AD%AF%E5%AE%B6%E6%97%8F-%E6%96%B0%E7%9F%B3%E4%BB%A3-the-croods-a-new-age-10958', 'https://movies.yahoo.com.tw/movieinfo_main/%E6%83%A1%E6%A3%8D%E8%8B%B1%E9%9B%84-%E6%AD%BB%E4%BE%8D-deadpool-10719', 'https://movies.yahoo.com.tw/movieinfo_main/%E7%8E%A9%E5%91%BD%E9%97%9C%E9%A0%AD-%E7%89%B9%E5%88%A5%E8%A1%8C%E5%8B%95-fast-furious-presents-hobbs-shaw-9582', 'https://movies.yahoo.com.tw/movieinfo_main/%E5%90%8D%E5%81%B5%E6%8E%A2%E7%9A%AE%E5%8D%A1%E4%B8%98-pokemon-detective-pikachu-9322', 'https://movies.yahoo.com.tw/movieinfo_main/%E6%AD%BB%E4%BE%8D2-deadpool-2-7820', 'https://movies.yahoo.com.tw/movieinfo_main/%E6%AE%BA%E6%89%8B%E4%BF%9D%E9%91%A3-the-hitmans-bodyguard-6873', 'https://movies.yahoo.com.tw/movieinfo_main/%E7%95%B0%E6%98%9F%E6%99%BA%E6%85%A7-life-6707', 'https://movies.yahoo.com.tw/movieinfo_main/%E6%8F%9B%E8%85%A6%E8%A1%8C%E5%8B%95-criminal-6211', 'https://movies.yahoo.com.tw/movieinfo_main/%E6%83%A1%E6%A3%8D%E8%8B%B1%E9%9B%84-%E6%AD%BB%E4%BE%8D-deadpool-5904', 'https://movies.yahoo.com.tw/movieinfo_main/%E6%8F%9B%E5%91%BD%E6%B3%95%E5%89%87-selfless-5840', 'https://movies.yahoo.com.tw/movieinfo_main/%E5%90%8D%E7%95%AB%E7%9A%84%E6%8E%A7%E8%A8%B4-woman-in-gold-5706', 'https://movies.yahoo.com.tw/movieinfo_main/%E9%9B%AA%E5%9C%B0%E8%BF%B7%E8%B9%A4-the-captive-5661', 'https://movies.yahoo.com.tw/movieinfo_main/%E6%B8%A6%E8%BC%AA%E6%96%B9%E7%A8%8B%E5%BC%8F-turbo-4680', 'https://movies.yahoo.com.tw/movieinfo_main/%E5%8F%A4%E9%AD%AF%E5%AE%B6%E6%97%8F-the-croods-4476', 'https://movies.yahoo.com.tw/movieinfo_main/%E7%8B%A1%E5%85%94%E8%A8%88%E7%95%AB-safe-house-4085', 'https://movies.yahoo.com.tw/movieinfo_main/%E7%8E%A9%E5%92%96%E5%B0%AC%E5%AE%85%E7%88%B8-the-change-up-3963', 'https://movies.yahoo.com.tw/movieinfo_main/%E7%B6%A0%E5%85%89%E6%88%B0%E8%AD%A6-green-lantern-3716', 'https://movies.yahoo.com.tw/movieinfo_main/%E6%B4%BB%E5%9F%8B-buried-3662', 'https://movies.yahoo.com.tw/movieinfo_main/%E6%84%9B%E6%83%85%E9%99%90%E6%99%82%E7%B0%BD-the-proposal-2955', 'https://movies.yahoo.com.tw/movieinfo_main/X%E6%88%B0%E8%AD%A6-%E9%87%91%E9%8B%BC%E7%8B%BC-x-men-origins-wolverine-2924', 'https://movies.yahoo.com.tw/movieinfo_main/%E8%8A%B1%E5%9C%92%E8%A3%A1%E7%9A%84%E8%9E%A2%E7%81%AB%E8%9F%B2-fireflies-in-the-garden-2979', 'https://movies.yahoo.com.tw/movieinfo_main/%E6%84%9B%E6%83%85%E4%B8%89%E9%81%B8%E4%B8%80-definitely-maybe-2598', 'https://movies.yahoo.com.tw/movieinfo_main/%E9%99%B0%E5%AE%85-the-amityville-horror-1226', 'https://movies.yahoo.com.tw/movieinfo_main/%E5%88%80%E9%8B%92%E6%88%B0%E5%A3%AB-3-blade-trinity-1051', 'https://movies.yahoo.com.tw/movieinfo_main/%E9%9B%99%E9%9D%A2%E8%96%87%E8%8B%A5%E5%A6%AE%E5%8D%A1-%E7%B6%93%E5%85%B8%E6%95%B8%E4%BD%8D%E4%BF%AE%E5%BE%A9-the-double-life-of-veronique-11425']\n"
     ]
    }
   ],
   "source": [
    "#test\n",
    "uRL='https://movies.yahoo.com.tw/name_main/%E8%90%8A%E6%81%A9%E9%9B%B7%E8%AB%BE%E6%96%AF-ryan-reynolds-225'\n",
    "Lt=listMovie\n",
    "print(Lt)\n",
    "\n",
    "Lt=getMovie(uRL,listMovie)\n",
    "\n",
    "print(len(Lt))\n",
    "print(listMovie)"
   ]
  },
  {
   "cell_type": "code",
   "execution_count": null,
   "metadata": {},
   "outputs": [],
   "source": []
  }
 ],
 "metadata": {
  "kernelspec": {
   "display_name": "Python 3",
   "language": "python",
   "name": "python3"
  },
  "language_info": {
   "codemirror_mode": {
    "name": "ipython",
    "version": 3
   },
   "file_extension": ".py",
   "mimetype": "text/x-python",
   "name": "python",
   "nbconvert_exporter": "python",
   "pygments_lexer": "ipython3",
   "version": "3.7.6"
  }
 },
 "nbformat": 4,
 "nbformat_minor": 4
}
