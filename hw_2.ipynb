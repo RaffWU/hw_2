{
 "cells": [
  {
   "cell_type": "code",
   "execution_count": 5,
   "metadata": {
    "scrolled": false
   },
   "outputs": [
    {
     "name": "stdout",
     "output_type": "stream",
     "text": [
      "===== 網頁標題（分頁顯示名稱） =====\n",
      "上映中 - Yahoo奇摩電影\n",
      "===== 第一部電影的資訊 =====\n",
      "\n",
      "                  叢林奇航\n",
      "===== 所有電影資訊 =====\n",
      "叢林奇航\n",
      "LIP X LIP享受這世界的方法\n",
      "小王子公主心\n",
      "淘寶少年\n",
      "詭老\n",
      "罪之聲\n",
      "破碎的瞬間\n",
      "理髮師的男人 經典數位修復\n",
      "除暴\n",
      "太陽出來之後\n"
     ]
    }
   ],
   "source": [
    "# 奇摩電影\n",
    "import requests\n",
    "from bs4 import BeautifulSoup\n",
    "url = 'https://movies.yahoo.com.tw/movie_intheaters.html'\n",
    "r = requests.get(url)\n",
    "soup = BeautifulSoup(r.text)\n",
    "soup\n",
    "\n",
    "print('===== 網頁標題（分頁顯示名稱） =====')\n",
    "print(soup.title.text)\n",
    "print('===== 第一部電影的資訊 =====')\n",
    "# print(soup.find('a', class_='gabtn').text)\n",
    "print(soup.find('div', class_=\"release_movie_name\").find('a', class_='gabtn').text)\n",
    "print('===== 所有電影資訊 =====')\n",
    "for d in soup.find_all('div', class_=\"release_movie_name\"):\n",
    "#     print(d.find('a', class_='gabtn').text)\n",
    "#     print(d.find('a', class_='gabtn').text.replace(' ', '').replace('\\n', ''))\n",
    "    print(d.find('a', class_='gabtn').text.strip())"
   ]
  },
  {
   "cell_type": "code",
   "execution_count": 3,
   "metadata": {
    "scrolled": true
   },
   "outputs": [
    {
     "data": {
      "text/plain": [
       "[{'中文名稱': '自殺突擊隊：集結',\n",
       "  '英文名稱': 'The Suicide Squad',\n",
       "  '上映日期': '2021-08-05',\n",
       "  '期待度': '99%',\n",
       "  '封面照片網址': 'https://movies.yahoo.com.tw/x/r/w420/i/o/production/movies/July2021/wBcP1IO87kVxofoKeK4U-1024x1462.jpg'},\n",
       " {'中文名稱': '驅魔禁區',\n",
       "  '英文名稱': 'Demonic',\n",
       "  '上映日期': '2021-08-05',\n",
       "  '期待度': '100%',\n",
       "  '封面照片網址': 'https://movies.yahoo.com.tw/x/r/w420/i/o/production/movies/July2021/eVmi9QfCsk6nJn5ofEBH-1024x1464.jpg'},\n",
       " {'中文名稱': '路卡的夏天',\n",
       "  '英文名稱': 'LUCA',\n",
       "  '上映日期': '2021-08-06',\n",
       "  '期待度': '92%',\n",
       "  '封面照片網址': 'https://movies.yahoo.com.tw/x/r/w420/i/o/production/movies/June2021/xmlpY0g7xMaVDF51X5TF-757x1080.jpg'},\n",
       " {'中文名稱': '薄荷糖',\n",
       "  '英文名稱': 'Peppermint Candy',\n",
       "  '上映日期': '2021-08-06',\n",
       "  '期待度': '56%',\n",
       "  '封面照片網址': 'https://movies.yahoo.com.tw/x/r/w420/i/o/production/movies/July2021/3ooF0pVHQ1EEUTvPRU4f-756x1080.jpg'},\n",
       " {'中文名稱': '人聲',\n",
       "  '英文名稱': 'The Human Voice',\n",
       "  '上映日期': '2021-08-06',\n",
       "  '期待度': '100%',\n",
       "  '封面照片網址': 'https://movies.yahoo.com.tw/x/r/w420/i/o/production/movies/July2021/Cuk4AuLvtGffrHApdA1H-755x1080.jpg'},\n",
       " {'中文名稱': '雙面薇若妮卡 經典數位修復',\n",
       "  '英文名稱': 'The Double Life of Veronique',\n",
       "  '上映日期': '2021-08-06',\n",
       "  '期待度': '100%',\n",
       "  '封面照片網址': 'https://movies.yahoo.com.tw/x/r/w420/i/o/production/movies/July2021/tgUMwQ8Qerni9Z3YHXig-764x1080.jpg'},\n",
       " {'中文名稱': '合法伴侶',\n",
       "  '英文名稱': 'Special Couple',\n",
       "  '上映日期': '2021-08-06',\n",
       "  '期待度': '100%',\n",
       "  '封面照片網址': 'https://movies.yahoo.com.tw/x/r/w420/i/o/production/movies/July2021/48cD8EBgoIuvHqsS0aUD-756x1080.jpg'},\n",
       " {'中文名稱': '甲子園：夢想競技場',\n",
       "  '英文名稱': \"Koshien: Japan's Field of Dreams\",\n",
       "  '上映日期': '2021-08-06',\n",
       "  '期待度': '0',\n",
       "  '封面照片網址': 'https://movies.yahoo.com.tw/x/r/w420/i/o/production/movies/August2021/rrgEoPMfwLKXAF15bA6q-514x700.jpg'},\n",
       " {'中文名稱': '青春：第50屆日本全國高中棒球錦標賽',\n",
       "  '英文名稱': 'Youth: The 50th National High School Baseball Tournament',\n",
       "  '上映日期': '2021-08-06',\n",
       "  '期待度': '0',\n",
       "  '封面照片網址': 'https://movies.yahoo.com.tw/x/r/w420/i/o/production/movies/August2021/Hkdfhr29o0r3U0SbAcaA-514x700.jpg'},\n",
       " {'中文名稱': '隱瞞之事 秘密之事是什麼？',\n",
       "  '英文名稱': 'Kouji Kumeta, KODANSHA/KAKUSHIGOTO Movie Committee',\n",
       "  '上映日期': '2021-08-07',\n",
       "  '期待度': '100%',\n",
       "  '封面照片網址': 'https://movies.yahoo.com.tw/x/r/w420/i/o/production/movies/July2021/adAiFT7HN6hqbmnFHfkq-764x1080.jpg'}]"
      ]
     },
     "execution_count": 3,
     "metadata": {},
     "output_type": "execute_result"
    }
   ],
   "source": [
    "import requests\n",
    "from bs4 import BeautifulSoup\n",
    "url = 'https://movies.yahoo.com.tw/movie_thisweek.html'\n",
    "r = requests.get(url)\n",
    "soup = BeautifulSoup(r.text)\n",
    "infos = []\n",
    "imgs = []\n",
    "for d in soup.find_all('div', class_=\"release_info\"):\n",
    "    info = {}\n",
    "    info['中文名稱'] = d.find('div', class_='release_movie_name').find('a', class_='gabtn').text.strip()\n",
    "    info['英文名稱'] = d.find('div', class_='release_movie_name').find('div', class_='en').a.text.strip()\n",
    "    info['上映日期'] = d.find('div', class_='release_movie_time').text.split('上映日期 ： ')[1]\n",
    "    info['期待度'] = ''\n",
    "    if d.find('div', class_='leveltext'):\n",
    "        info['期待度'] = d.find('div', class_='leveltext').span.text\n",
    "    infos.append(info)\n",
    "for d in soup.find_all('div', class_='release_foto'):\n",
    "    img = {}\n",
    "    img['封面照片網址'] = d.find('img')['src']\n",
    "    imgs.append(img)\n",
    "res = []\n",
    "for i, j in list(zip(infos, imgs)):\n",
    "    res.append(dict(list(i.items()) + list(j.items())))\n",
    "res"
   ]
  },
  {
   "cell_type": "code",
   "execution_count": null,
   "metadata": {},
   "outputs": [],
   "source": []
  }
 ],
 "metadata": {
  "kernelspec": {
   "display_name": "Python 3",
   "language": "python",
   "name": "python3"
  },
  "language_info": {
   "codemirror_mode": {
    "name": "ipython",
    "version": 3
   },
   "file_extension": ".py",
   "mimetype": "text/x-python",
   "name": "python",
   "nbconvert_exporter": "python",
   "pygments_lexer": "ipython3",
   "version": "3.7.6"
  }
 },
 "nbformat": 4,
 "nbformat_minor": 4
}
